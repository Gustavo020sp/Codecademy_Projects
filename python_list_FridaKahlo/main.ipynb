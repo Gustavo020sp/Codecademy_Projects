{
 "cells": [
  {
   "metadata": {},
   "cell_type": "raw",
   "source": "",
   "id": "9f1f20a6f7c398a1"
  },
  {
   "metadata": {
    "ExecuteTime": {
     "end_time": "2025-06-23T14:45:59.367556Z",
     "start_time": "2025-06-23T14:45:59.361445Z"
    }
   },
   "cell_type": "code",
   "source": [
    "paintings = ['The Two Fridas', 'My Dress Hangs Here', 'Tree of Hope', 'Self Portrait With Monkeys']\n",
    "\n",
    "dates = ['1939','1933', '1946', '1940']\n",
    "\n",
    "paintings.append('The Broken Column')\n",
    "paintings.append('The Wounded Deer')\n",
    "paintings.append('Me and My Doll')\n",
    "\n",
    "dates.append('1944')\n",
    "dates.append('1946')\n",
    "dates.append('1937')\n",
    "\n",
    "new_list = zip(paintings, dates)\n",
    "\n",
    "print(list(new_list))\n",
    "\n",
    "painting_length = len(paintings)\n",
    "\n",
    "audio_tour_number = range(1, painting_length)\n",
    "print(audio_tour_number)\n",
    "\n",
    "master_list = zip(paintings, audio_tour_number)\n",
    "\n",
    "print(list(master_list))"
   ],
   "id": "67b64658f18e3e61",
   "outputs": [
    {
     "name": "stdout",
     "output_type": "stream",
     "text": [
      "[('The Two Fridas', '1939'), ('My Dress Hangs Here', '1933'), ('Tree of Hope', '1946'), ('Self Portrait With Monkeys', '1940'), ('The Broken Column', '1944'), ('The Wounded Deer', '1946'), ('Me and My Doll', '1937')]\n",
      "range(1, 7)\n",
      "[('The Two Fridas', 1), ('My Dress Hangs Here', 2), ('Tree of Hope', 3), ('Self Portrait With Monkeys', 4), ('The Broken Column', 5), ('The Wounded Deer', 6)]\n"
     ]
    }
   ],
   "execution_count": 43
  }
 ],
 "metadata": {
  "kernelspec": {
   "display_name": "Python 3",
   "language": "python",
   "name": "python3"
  },
  "language_info": {
   "codemirror_mode": {
    "name": "ipython",
    "version": 2
   },
   "file_extension": ".py",
   "mimetype": "text/x-python",
   "name": "python",
   "nbconvert_exporter": "python",
   "pygments_lexer": "ipython2",
   "version": "2.7.6"
  }
 },
 "nbformat": 4,
 "nbformat_minor": 5
}
